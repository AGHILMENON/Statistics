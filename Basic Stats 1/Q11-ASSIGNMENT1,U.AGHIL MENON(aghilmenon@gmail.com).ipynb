{
 "cells": [
  {
   "cell_type": "markdown",
   "id": "43f4511e",
   "metadata": {},
   "source": [
    "# Suppose we want to estimate the average weight of an adult male in    Mexico. We draw a random sample of 2,000 men from a population of 3,000,000 men and weigh them. We find that the average person in our sample weighs 200 pounds, and the standard deviation of the sample is 30 pounds. Calculate 94%,98%,96% confidence interval?"
   ]
  },
  {
   "cell_type": "markdown",
   "id": "6e7ff52c",
   "metadata": {},
   "source": [
    "Here given Total Population=3000000,n=2000 , mean(sample)=200,std of sample=30, we have to find Confidence intervals of 94,96 and 98%. Since Standard Deviation of population is not given , we will be taking t test"
   ]
  },
  {
   "cell_type": "code",
   "execution_count": 5,
   "id": "1890c750",
   "metadata": {},
   "outputs": [],
   "source": [
    "import pandas as pd\n",
    "import numpy as np\n",
    "from scipy import stats"
   ]
  },
  {
   "cell_type": "code",
   "execution_count": null,
   "id": "a082ffa4",
   "metadata": {},
   "outputs": [],
   "source": [
    "#Confidence Interval for 94%"
   ]
  },
  {
   "cell_type": "code",
   "execution_count": 6,
   "id": "fff1016a",
   "metadata": {},
   "outputs": [
    {
     "data": {
      "text/plain": [
       "(198.7376089443071, 201.2623910556929)"
      ]
     },
     "execution_count": 6,
     "metadata": {},
     "output_type": "execute_result"
    }
   ],
   "source": [
    "tint_94=stats.t.interval(0.94,loc=200,df=1999,scale=30/np.sqrt(2000))\n",
    "tint_94"
   ]
  },
  {
   "cell_type": "code",
   "execution_count": 4,
   "id": "27538ea9",
   "metadata": {},
   "outputs": [
    {
     "data": {
      "text/plain": [
       "array([199., 201.])"
      ]
     },
     "execution_count": 4,
     "metadata": {},
     "output_type": "execute_result"
    }
   ],
   "source": [
    "np.round(tint_94)"
   ]
  },
  {
   "cell_type": "code",
   "execution_count": 7,
   "id": "e2091edb",
   "metadata": {},
   "outputs": [],
   "source": [
    "#Confidence Interval for 98%"
   ]
  },
  {
   "cell_type": "code",
   "execution_count": 9,
   "id": "427cdaf4",
   "metadata": {},
   "outputs": [
    {
     "data": {
      "text/plain": [
       "(198.4381860483216, 201.5618139516784)"
      ]
     },
     "execution_count": 9,
     "metadata": {},
     "output_type": "execute_result"
    }
   ],
   "source": [
    "tint_98=stats.t.interval(0.98,loc=200,df=1999,scale=30/np.sqrt(2000))\n",
    "tint_98"
   ]
  },
  {
   "cell_type": "code",
   "execution_count": 10,
   "id": "c212c1dc",
   "metadata": {},
   "outputs": [
    {
     "data": {
      "text/plain": [
       "array([198., 202.])"
      ]
     },
     "execution_count": 10,
     "metadata": {},
     "output_type": "execute_result"
    }
   ],
   "source": [
    "np.round(tint_98)"
   ]
  },
  {
   "cell_type": "code",
   "execution_count": 11,
   "id": "5d2e7be3",
   "metadata": {},
   "outputs": [],
   "source": [
    "#Confidence Interval of 96%"
   ]
  },
  {
   "cell_type": "code",
   "execution_count": 12,
   "id": "b5a5d796",
   "metadata": {},
   "outputs": [
    {
     "data": {
      "text/plain": [
       "array([199., 201.])"
      ]
     },
     "execution_count": 12,
     "metadata": {},
     "output_type": "execute_result"
    }
   ],
   "source": [
    "tint_96=stats.t.interval(0.96,loc=200,df=1999,scale=30/np.sqrt(2000))\n",
    "np.round(tint_96)"
   ]
  },
  {
   "cell_type": "code",
   "execution_count": null,
   "id": "a7fc153a",
   "metadata": {},
   "outputs": [],
   "source": []
  }
 ],
 "metadata": {
  "kernelspec": {
   "display_name": "Python 3 (ipykernel)",
   "language": "python",
   "name": "python3"
  },
  "language_info": {
   "codemirror_mode": {
    "name": "ipython",
    "version": 3
   },
   "file_extension": ".py",
   "mimetype": "text/x-python",
   "name": "python",
   "nbconvert_exporter": "python",
   "pygments_lexer": "ipython3",
   "version": "3.11.3"
  }
 },
 "nbformat": 4,
 "nbformat_minor": 5
}
