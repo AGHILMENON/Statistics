{
 "cells": [
  {
   "cell_type": "code",
   "execution_count": 1,
   "id": "56960fe9",
   "metadata": {},
   "outputs": [],
   "source": [
    "import numpy as np\n",
    "import pandas as pd\n",
    "from scipy import stats"
   ]
  },
  {
   "cell_type": "markdown",
   "id": "97d0b31b",
   "metadata": {},
   "source": [
    "# Q.22)Z-SCORE"
   ]
  },
  {
   "cell_type": "markdown",
   "id": "467f125b",
   "metadata": {},
   "source": [
    "For 90% Confidence level , z score"
   ]
  },
  {
   "cell_type": "code",
   "execution_count": 4,
   "id": "aa4dc33a",
   "metadata": {},
   "outputs": [
    {
     "data": {
      "text/plain": [
       "1.6448536269514722"
      ]
     },
     "execution_count": 4,
     "metadata": {},
     "output_type": "execute_result"
    }
   ],
   "source": [
    "confidence_level=0.90\n",
    "z_score90=stats.norm.ppf(1-(1-confidence_level)/2)\n",
    "z_score90"
   ]
  },
  {
   "cell_type": "markdown",
   "id": "5424b622",
   "metadata": {},
   "source": [
    "For 94% Confidence level , z score"
   ]
  },
  {
   "cell_type": "code",
   "execution_count": 9,
   "id": "741ccc77",
   "metadata": {},
   "outputs": [
    {
     "data": {
      "text/plain": [
       "1.8807936081512509"
      ]
     },
     "execution_count": 9,
     "metadata": {},
     "output_type": "execute_result"
    }
   ],
   "source": [
    "confidence_level=0.94\n",
    "z_score94=stats.norm.ppf(1-(1-confidence_level)/2)\n",
    "z_score94"
   ]
  },
  {
   "cell_type": "markdown",
   "id": "e02209e6",
   "metadata": {},
   "source": [
    "For 60% Confidence level , z score"
   ]
  },
  {
   "cell_type": "code",
   "execution_count": 10,
   "id": "1c1af3f9",
   "metadata": {},
   "outputs": [
    {
     "data": {
      "text/plain": [
       "0.8416212335729143"
      ]
     },
     "execution_count": 10,
     "metadata": {},
     "output_type": "execute_result"
    }
   ],
   "source": [
    "confidence_level=0.60\n",
    "z_score60=stats.norm.ppf(1-(1-confidence_level)/2)\n",
    "z_score60"
   ]
  },
  {
   "cell_type": "markdown",
   "id": "12149ec0",
   "metadata": {},
   "source": [
    "#  Q.23)T-SCORE"
   ]
  },
  {
   "cell_type": "code",
   "execution_count": 11,
   "id": "2ed3508c",
   "metadata": {},
   "outputs": [],
   "source": [
    "#df=degree_of_freedom =24 , since sample size=25"
   ]
  },
  {
   "cell_type": "markdown",
   "id": "a7c9a150",
   "metadata": {},
   "source": [
    "For 95% Confidence level , t score"
   ]
  },
  {
   "cell_type": "code",
   "execution_count": 14,
   "id": "4e54a96b",
   "metadata": {},
   "outputs": [
    {
     "data": {
      "text/plain": [
       "2.0638985616280205"
      ]
     },
     "execution_count": 14,
     "metadata": {},
     "output_type": "execute_result"
    }
   ],
   "source": [
    "confidence_level=0.95\n",
    "t_score95=stats.t.ppf(1-(1-confidence_level)/2,df=24)\n",
    "t_score95"
   ]
  },
  {
   "cell_type": "markdown",
   "id": "037150b7",
   "metadata": {},
   "source": [
    "For 96% Confidence level , t score"
   ]
  },
  {
   "cell_type": "code",
   "execution_count": 15,
   "id": "115683fd",
   "metadata": {},
   "outputs": [
    {
     "data": {
      "text/plain": [
       "2.1715446760080677"
      ]
     },
     "execution_count": 15,
     "metadata": {},
     "output_type": "execute_result"
    }
   ],
   "source": [
    "confidence_level=0.96\n",
    "t_score96=stats.t.ppf(1-(1-confidence_level)/2,df=24)\n",
    "t_score96"
   ]
  },
  {
   "cell_type": "markdown",
   "id": "e8d58464",
   "metadata": {},
   "source": [
    "For 99% Confidence level , t score"
   ]
  },
  {
   "cell_type": "code",
   "execution_count": 16,
   "id": "49708b85",
   "metadata": {},
   "outputs": [
    {
     "data": {
      "text/plain": [
       "2.796939504772804"
      ]
     },
     "execution_count": 16,
     "metadata": {},
     "output_type": "execute_result"
    }
   ],
   "source": [
    "confidence_level=0.99\n",
    "t_score99=stats.t.ppf(1-(1-confidence_level)/2,df=24)\n",
    "t_score99"
   ]
  },
  {
   "cell_type": "code",
   "execution_count": null,
   "id": "4690d872",
   "metadata": {},
   "outputs": [],
   "source": []
  }
 ],
 "metadata": {
  "kernelspec": {
   "display_name": "Python 3 (ipykernel)",
   "language": "python",
   "name": "python3"
  },
  "language_info": {
   "codemirror_mode": {
    "name": "ipython",
    "version": 3
   },
   "file_extension": ".py",
   "mimetype": "text/x-python",
   "name": "python",
   "nbconvert_exporter": "python",
   "pygments_lexer": "ipython3",
   "version": "3.11.3"
  }
 },
 "nbformat": 4,
 "nbformat_minor": 5
}
