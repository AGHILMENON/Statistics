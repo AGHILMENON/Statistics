{
 "cells": [
  {
   "cell_type": "code",
   "execution_count": 3,
   "id": "6fa88c9d",
   "metadata": {},
   "outputs": [],
   "source": [
    "import numpy as np\n",
    "import pandas as pd\n",
    "from scipy import stats"
   ]
  },
  {
   "cell_type": "markdown",
   "id": "fa1e5f38",
   "metadata": {},
   "source": [
    "Given Data\n"
   ]
  },
  {
   "cell_type": "code",
   "execution_count": 4,
   "id": "8cc627f1",
   "metadata": {},
   "outputs": [],
   "source": [
    "population_mean = 270  # Population mean (Goverments's claim)\n",
    "sample_size = 18\n",
    "sample_mean = 260   # Researcher's claim\n",
    "sample_std_dev = 90\n",
    "alpha=0.05"
   ]
  },
  {
   "cell_type": "markdown",
   "id": "d915806e",
   "metadata": {},
   "source": [
    "Calculating the t_value"
   ]
  },
  {
   "cell_type": "code",
   "execution_count": 5,
   "id": "6b232050",
   "metadata": {},
   "outputs": [
    {
     "data": {
      "text/plain": [
       "-0.4714045207910317"
      ]
     },
     "execution_count": 5,
     "metadata": {},
     "output_type": "execute_result"
    }
   ],
   "source": [
    "Standard_error=sample_std_dev / np.sqrt(sample_size)\n",
    "t_value = (sample_mean - population_mean) / Standard_error\n",
    "t_value"
   ]
  },
  {
   "cell_type": "code",
   "execution_count": 7,
   "id": "bb4a5f66",
   "metadata": {},
   "outputs": [
    {
     "data": {
      "text/plain": [
       "0.32167253567098364"
      ]
     },
     "execution_count": 7,
     "metadata": {},
     "output_type": "execute_result"
    }
   ],
   "source": [
    "p_value = stats.t.cdf(t_value,df=17)\n",
    "p_value"
   ]
  },
  {
   "cell_type": "code",
   "execution_count": 8,
   "id": "02a17397",
   "metadata": {},
   "outputs": [
    {
     "name": "stdout",
     "output_type": "stream",
     "text": [
      "The Researcher's claim is not accepted\n"
     ]
    }
   ],
   "source": [
    "if (p_value>alpha):\n",
    "    print(\"The Researcher's claim is not accepted\")\n",
    "else:\n",
    "    print(\"The Researcher's claim is accepted\")"
   ]
  },
  {
   "cell_type": "code",
   "execution_count": null,
   "id": "e67add75",
   "metadata": {},
   "outputs": [],
   "source": []
  }
 ],
 "metadata": {
  "kernelspec": {
   "display_name": "Python 3 (ipykernel)",
   "language": "python",
   "name": "python3"
  },
  "language_info": {
   "codemirror_mode": {
    "name": "ipython",
    "version": 3
   },
   "file_extension": ".py",
   "mimetype": "text/x-python",
   "name": "python",
   "nbconvert_exporter": "python",
   "pygments_lexer": "ipython3",
   "version": "3.11.3"
  }
 },
 "nbformat": 4,
 "nbformat_minor": 5
}
