{
 "cells": [
  {
   "cell_type": "code",
   "execution_count": 2,
   "id": "6727668b",
   "metadata": {},
   "outputs": [],
   "source": [
    "import statsmodels.api as sm"
   ]
  },
  {
   "cell_type": "code",
   "execution_count": 9,
   "id": "d89f6e5b",
   "metadata": {},
   "outputs": [],
   "source": [
    "n=2000\n",
    "pnull=0.05\n",
    "palt=0.046"
   ]
  },
  {
   "cell_type": "code",
   "execution_count": 10,
   "id": "3b86d764",
   "metadata": {},
   "outputs": [
    {
     "data": {
      "text/plain": [
       "(-0.8539292422983582, 0.19657209793658192)"
      ]
     },
     "execution_count": 10,
     "metadata": {},
     "output_type": "execute_result"
    }
   ],
   "source": [
    "sm.stats.proportions_ztest(palt*n,n,pnull,alternative='smaller')"
   ]
  },
  {
   "cell_type": "markdown",
   "id": "cdf9bf93",
   "metadata": {},
   "source": [
    "Here Pnull is less than p value , so reject null hypothesis and we do not reject P alternate... Hence the mozilla captures 4.6% market of internet share based on sample of 2000."
   ]
  }
 ],
 "metadata": {
  "kernelspec": {
   "display_name": "Python 3 (ipykernel)",
   "language": "python",
   "name": "python3"
  },
  "language_info": {
   "codemirror_mode": {
    "name": "ipython",
    "version": 3
   },
   "file_extension": ".py",
   "mimetype": "text/x-python",
   "name": "python",
   "nbconvert_exporter": "python",
   "pygments_lexer": "ipython3",
   "version": "3.11.3"
  }
 },
 "nbformat": 4,
 "nbformat_minor": 5
}
